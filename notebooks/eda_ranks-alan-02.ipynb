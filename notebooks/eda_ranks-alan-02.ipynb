{
 "cells": [
  {
   "cell_type": "markdown",
   "metadata": {},
   "source": [
    "# Exploratory Data Analysis - Rank"
   ]
  },
  {
   "cell_type": "markdown",
   "metadata": {},
   "source": [
    "## Imports"
   ]
  },
  {
   "cell_type": "code",
   "execution_count": 33,
   "metadata": {},
   "outputs": [
    {
     "name": "stdout",
     "output_type": "stream",
     "text": [
      "The autoreload extension is already loaded. To reload it, use:\n",
      "  %reload_ext autoreload\n"
     ]
    }
   ],
   "source": [
    "%load_ext autoreload\n",
    "%autoreload 2\n",
    "%matplotlib inline"
   ]
  },
  {
   "cell_type": "code",
   "execution_count": 48,
   "metadata": {},
   "outputs": [],
   "source": [
    "import seaborn as sns\n",
    "import pandas as pd\n",
    "from matplotlib import pyplot as plt\n",
    "import numpy as np\n",
    "from tqdm import tqdm\n",
    "\n",
    "from src import load_observations_csv, load_names_csv\n",
    "from src.utils import get_id2preferred_id, get_names_pref_df"
   ]
  },
  {
   "cell_type": "code",
   "execution_count": 3,
   "metadata": {},
   "outputs": [],
   "source": [
    "observations_df, names_df = load_observations_csv(), load_names_csv()"
   ]
  },
  {
   "cell_type": "markdown",
   "metadata": {},
   "source": [
    "## Names"
   ]
  },
  {
   "cell_type": "code",
   "execution_count": 4,
   "metadata": {},
   "outputs": [
    {
     "data": {
      "text/html": [
       "<div>\n",
       "<style scoped>\n",
       "    .dataframe tbody tr th:only-of-type {\n",
       "        vertical-align: middle;\n",
       "    }\n",
       "\n",
       "    .dataframe tbody tr th {\n",
       "        vertical-align: top;\n",
       "    }\n",
       "\n",
       "    .dataframe thead th {\n",
       "        text-align: right;\n",
       "    }\n",
       "</style>\n",
       "<table border=\"1\" class=\"dataframe\">\n",
       "  <thead>\n",
       "    <tr style=\"text-align: right;\">\n",
       "      <th></th>\n",
       "      <th>synonym_id</th>\n",
       "      <th>unique_count</th>\n",
       "    </tr>\n",
       "  </thead>\n",
       "  <tbody>\n",
       "    <tr>\n",
       "      <th>4302</th>\n",
       "      <td>4950.0</td>\n",
       "      <td>92</td>\n",
       "    </tr>\n",
       "    <tr>\n",
       "      <th>2557</th>\n",
       "      <td>2884.0</td>\n",
       "      <td>59</td>\n",
       "    </tr>\n",
       "    <tr>\n",
       "      <th>4928</th>\n",
       "      <td>5655.0</td>\n",
       "      <td>57</td>\n",
       "    </tr>\n",
       "    <tr>\n",
       "      <th>2277</th>\n",
       "      <td>2523.0</td>\n",
       "      <td>55</td>\n",
       "    </tr>\n",
       "    <tr>\n",
       "      <th>4048</th>\n",
       "      <td>4664.0</td>\n",
       "      <td>52</td>\n",
       "    </tr>\n",
       "    <tr>\n",
       "      <th>...</th>\n",
       "      <td>...</td>\n",
       "      <td>...</td>\n",
       "    </tr>\n",
       "    <tr>\n",
       "      <th>5669</th>\n",
       "      <td>6485.0</td>\n",
       "      <td>1</td>\n",
       "    </tr>\n",
       "    <tr>\n",
       "      <th>6843</th>\n",
       "      <td>8396.0</td>\n",
       "      <td>1</td>\n",
       "    </tr>\n",
       "    <tr>\n",
       "      <th>6842</th>\n",
       "      <td>8369.0</td>\n",
       "      <td>1</td>\n",
       "    </tr>\n",
       "    <tr>\n",
       "      <th>4014</th>\n",
       "      <td>4627.0</td>\n",
       "      <td>1</td>\n",
       "    </tr>\n",
       "    <tr>\n",
       "      <th>3345</th>\n",
       "      <td>3829.0</td>\n",
       "      <td>1</td>\n",
       "    </tr>\n",
       "  </tbody>\n",
       "</table>\n",
       "<p>8090 rows × 2 columns</p>\n",
       "</div>"
      ],
      "text/plain": [
       "     synonym_id  unique_count\n",
       "4302     4950.0            92\n",
       "2557     2884.0            59\n",
       "4928     5655.0            57\n",
       "2277     2523.0            55\n",
       "4048     4664.0            52\n",
       "...         ...           ...\n",
       "5669     6485.0             1\n",
       "6843     8396.0             1\n",
       "6842     8369.0             1\n",
       "4014     4627.0             1\n",
       "3345     3829.0             1\n",
       "\n",
       "[8090 rows x 2 columns]"
      ]
     },
     "metadata": {},
     "output_type": "display_data"
    },
    {
     "name": "stdout",
     "output_type": "stream",
     "text": [
      "Names without a synonym ID and that are not deprecated: 44078\n",
      "Names without a synonym ID, correct spelling ID, and that are not deprecated: 44078\n",
      "Total # of names: 52168.\n"
     ]
    }
   ],
   "source": [
    "name2unique_count_df = names_df.groupby(\"synonym_id\")[\"id\"].nunique().reset_index(name=\"unique_count\").sort_values(\"unique_count\", ascending=False)\n",
    "name2unique_count_df.synonym_id = name2unique_count_df.synonym_id.astype(\"string\")\n",
    "display(name2unique_count_df)\n",
    "mask1 = (names_df.synonym_id.isna()) & (names_df.deprecated == 0)\n",
    "mask2 = (names_df.synonym_id.isna()) & (names_df.deprecated == 0) & (names_df.correct_spelling_id.isna())\n",
    "print(f'Names without a synonym ID and that are not deprecated: {len(names_df[mask1])}')\n",
    "print(f'Names without a synonym ID, correct spelling ID, and that are not deprecated: {len(names_df[mask2])}')\n",
    "print(f'Total # of names: {len(names_df[mask1]) + len(name2unique_count_df)}.')"
   ]
  },
  {
   "cell_type": "markdown",
   "metadata": {},
   "source": [
    "**Conclusion**\n",
    "- No non-deprecated name without synonym ID with spelling ID."
   ]
  },
  {
   "cell_type": "code",
   "execution_count": 5,
   "metadata": {},
   "outputs": [
    {
     "data": {
      "text/html": [
       "<div>\n",
       "<style scoped>\n",
       "    .dataframe tbody tr th:only-of-type {\n",
       "        vertical-align: middle;\n",
       "    }\n",
       "\n",
       "    .dataframe tbody tr th {\n",
       "        vertical-align: top;\n",
       "    }\n",
       "\n",
       "    .dataframe thead th {\n",
       "        text-align: right;\n",
       "    }\n",
       "</style>\n",
       "<table border=\"1\" class=\"dataframe\">\n",
       "  <thead>\n",
       "    <tr style=\"text-align: right;\">\n",
       "      <th></th>\n",
       "      <th>synonym_id</th>\n",
       "      <th>unique_count</th>\n",
       "    </tr>\n",
       "  </thead>\n",
       "  <tbody>\n",
       "    <tr>\n",
       "      <th>4302</th>\n",
       "      <td>4950.0</td>\n",
       "      <td>92</td>\n",
       "    </tr>\n",
       "    <tr>\n",
       "      <th>2557</th>\n",
       "      <td>2884.0</td>\n",
       "      <td>59</td>\n",
       "    </tr>\n",
       "    <tr>\n",
       "      <th>4928</th>\n",
       "      <td>5655.0</td>\n",
       "      <td>57</td>\n",
       "    </tr>\n",
       "    <tr>\n",
       "      <th>2277</th>\n",
       "      <td>2523.0</td>\n",
       "      <td>55</td>\n",
       "    </tr>\n",
       "    <tr>\n",
       "      <th>4048</th>\n",
       "      <td>4664.0</td>\n",
       "      <td>52</td>\n",
       "    </tr>\n",
       "    <tr>\n",
       "      <th>4491</th>\n",
       "      <td>5160.0</td>\n",
       "      <td>47</td>\n",
       "    </tr>\n",
       "    <tr>\n",
       "      <th>5096</th>\n",
       "      <td>5848.0</td>\n",
       "      <td>46</td>\n",
       "    </tr>\n",
       "    <tr>\n",
       "      <th>3159</th>\n",
       "      <td>3614.0</td>\n",
       "      <td>42</td>\n",
       "    </tr>\n",
       "    <tr>\n",
       "      <th>7805</th>\n",
       "      <td>9696.0</td>\n",
       "      <td>40</td>\n",
       "    </tr>\n",
       "    <tr>\n",
       "      <th>21</th>\n",
       "      <td>30.0</td>\n",
       "      <td>34</td>\n",
       "    </tr>\n",
       "  </tbody>\n",
       "</table>\n",
       "</div>"
      ],
      "text/plain": [
       "     synonym_id  unique_count\n",
       "4302     4950.0            92\n",
       "2557     2884.0            59\n",
       "4928     5655.0            57\n",
       "2277     2523.0            55\n",
       "4048     4664.0            52\n",
       "4491     5160.0            47\n",
       "5096     5848.0            46\n",
       "3159     3614.0            42\n",
       "7805     9696.0            40\n",
       "21         30.0            34"
      ]
     },
     "execution_count": 5,
     "metadata": {},
     "output_type": "execute_result"
    }
   ],
   "source": [
    "name2unique_count_df.head(10)"
   ]
  },
  {
   "cell_type": "code",
   "execution_count": 6,
   "metadata": {},
   "outputs": [
    {
     "data": {
      "text/plain": [
       "<AxesSubplot:xlabel='unique_count', ylabel='synonym_id'>"
      ]
     },
     "execution_count": 6,
     "metadata": {},
     "output_type": "execute_result"
    },
    {
     "data": {
      "image/png": "[encoded data removed]",
      "text/plain": [
       "<Figure size 2160x1440 with 2 Axes>"
      ]
     },
     "metadata": {
      "needs_background": "light"
     },
     "output_type": "display_data"
    }
   ],
   "source": [
    "fig, ax = plt.subplots(1, 2, figsize=(30, 20))\n",
    "sns.barplot(data=name2unique_count_df.head(100), y=\"synonym_id\", x='unique_count', orient=\"h\", ax=ax[0])\n",
    "sns.barplot(data=name2unique_count_df.tail(100), y=\"synonym_id\", x='unique_count', orient=\"h\", ax=ax[1])"
   ]
  },
  {
   "cell_type": "code",
   "execution_count": 7,
   "metadata": {},
   "outputs": [
    {
     "name": "stdout",
     "output_type": "stream",
     "text": [
      "There are 1120 names with synonym IDs but no counterpart.\n"
     ]
    }
   ],
   "source": [
    "mask = name2unique_count_df.unique_count == 1\n",
    "print(f'There are {len(name2unique_count_df[mask])} names with synonym IDs but no counterpart.')"
   ]
  },
  {
   "cell_type": "markdown",
   "metadata": {},
   "source": [
    "### Deprecated IDs\n",
    "Do deprecated IDs map to non-deprecated ones?"
   ]
  },
  {
   "cell_type": "code",
   "execution_count": 8,
   "metadata": {},
   "outputs": [
    {
     "data": {
      "text/html": [
       "<div>\n",
       "<style scoped>\n",
       "    .dataframe tbody tr th:only-of-type {\n",
       "        vertical-align: middle;\n",
       "    }\n",
       "\n",
       "    .dataframe tbody tr th {\n",
       "        vertical-align: top;\n",
       "    }\n",
       "\n",
       "    .dataframe thead th {\n",
       "        text-align: right;\n",
       "    }\n",
       "</style>\n",
       "<table border=\"1\" class=\"dataframe\">\n",
       "  <thead>\n",
       "    <tr style=\"text-align: right;\">\n",
       "      <th></th>\n",
       "      <th>id</th>\n",
       "      <th>text_name</th>\n",
       "      <th>author</th>\n",
       "      <th>deprecated</th>\n",
       "      <th>correct_spelling_id</th>\n",
       "      <th>synonym_id</th>\n",
       "      <th>rank</th>\n",
       "    </tr>\n",
       "  </thead>\n",
       "  <tbody>\n",
       "    <tr>\n",
       "      <th>5</th>\n",
       "      <td>6</td>\n",
       "      <td>Xerocomus zelleri</td>\n",
       "      <td>(Murrill) Snell</td>\n",
       "      <td>1</td>\n",
       "      <td>NaN</td>\n",
       "      <td>505.0</td>\n",
       "      <td>4</td>\n",
       "    </tr>\n",
       "    <tr>\n",
       "      <th>7</th>\n",
       "      <td>8</td>\n",
       "      <td>Xerocomus dryophilus</td>\n",
       "      <td>(Thiers) Singer</td>\n",
       "      <td>1</td>\n",
       "      <td>NaN</td>\n",
       "      <td>4404.0</td>\n",
       "      <td>4</td>\n",
       "    </tr>\n",
       "    <tr>\n",
       "      <th>8</th>\n",
       "      <td>9</td>\n",
       "      <td>Xerocomus chrysenteron</td>\n",
       "      <td>(Bull.) Quél.</td>\n",
       "      <td>1</td>\n",
       "      <td>NaN</td>\n",
       "      <td>9724.0</td>\n",
       "      <td>4</td>\n",
       "    </tr>\n",
       "    <tr>\n",
       "      <th>9</th>\n",
       "      <td>10</td>\n",
       "      <td>Volvariella gloiocephala</td>\n",
       "      <td>(DC.) Boekhout &amp; Enderle</td>\n",
       "      <td>1</td>\n",
       "      <td>NaN</td>\n",
       "      <td>593.0</td>\n",
       "      <td>4</td>\n",
       "    </tr>\n",
       "    <tr>\n",
       "      <th>20</th>\n",
       "      <td>22</td>\n",
       "      <td>Tylopilus eximius</td>\n",
       "      <td>(Peck) Singer</td>\n",
       "      <td>1</td>\n",
       "      <td>NaN</td>\n",
       "      <td>6094.0</td>\n",
       "      <td>4</td>\n",
       "    </tr>\n",
       "    <tr>\n",
       "      <th>...</th>\n",
       "      <td>...</td>\n",
       "      <td>...</td>\n",
       "      <td>...</td>\n",
       "      <td>...</td>\n",
       "      <td>...</td>\n",
       "      <td>...</td>\n",
       "      <td>...</td>\n",
       "    </tr>\n",
       "    <tr>\n",
       "      <th>66109</th>\n",
       "      <td>112039</td>\n",
       "      <td>Cantharellus tabaeformis</td>\n",
       "      <td>NaN</td>\n",
       "      <td>1</td>\n",
       "      <td>6305.0</td>\n",
       "      <td>5573.0</td>\n",
       "      <td>4</td>\n",
       "    </tr>\n",
       "    <tr>\n",
       "      <th>66127</th>\n",
       "      <td>112059</td>\n",
       "      <td>Panaeolus sphinctrinum</td>\n",
       "      <td>NaN</td>\n",
       "      <td>1</td>\n",
       "      <td>721.0</td>\n",
       "      <td>290.0</td>\n",
       "      <td>4</td>\n",
       "    </tr>\n",
       "    <tr>\n",
       "      <th>66136</th>\n",
       "      <td>112069</td>\n",
       "      <td>Gymnopus junonius</td>\n",
       "      <td>NaN</td>\n",
       "      <td>1</td>\n",
       "      <td>2412.0</td>\n",
       "      <td>6034.0</td>\n",
       "      <td>4</td>\n",
       "    </tr>\n",
       "    <tr>\n",
       "      <th>66137</th>\n",
       "      <td>112070</td>\n",
       "      <td>Ostinea</td>\n",
       "      <td>NaN</td>\n",
       "      <td>1</td>\n",
       "      <td>510.0</td>\n",
       "      <td>288.0</td>\n",
       "      <td>9</td>\n",
       "    </tr>\n",
       "    <tr>\n",
       "      <th>66138</th>\n",
       "      <td>112071</td>\n",
       "      <td>Ostinea obducta</td>\n",
       "      <td>(Berk.) Donk</td>\n",
       "      <td>1</td>\n",
       "      <td>510.0</td>\n",
       "      <td>288.0</td>\n",
       "      <td>4</td>\n",
       "    </tr>\n",
       "  </tbody>\n",
       "</table>\n",
       "<p>13944 rows × 7 columns</p>\n",
       "</div>"
      ],
      "text/plain": [
       "           id                 text_name                    author  deprecated  \\\n",
       "5           6         Xerocomus zelleri           (Murrill) Snell           1   \n",
       "7           8      Xerocomus dryophilus           (Thiers) Singer           1   \n",
       "8           9    Xerocomus chrysenteron             (Bull.) Quél.           1   \n",
       "9          10  Volvariella gloiocephala  (DC.) Boekhout & Enderle           1   \n",
       "20         22         Tylopilus eximius             (Peck) Singer           1   \n",
       "...       ...                       ...                       ...         ...   \n",
       "66109  112039  Cantharellus tabaeformis                       NaN           1   \n",
       "66127  112059    Panaeolus sphinctrinum                       NaN           1   \n",
       "66136  112069         Gymnopus junonius                       NaN           1   \n",
       "66137  112070                   Ostinea                       NaN           1   \n",
       "66138  112071           Ostinea obducta              (Berk.) Donk           1   \n",
       "\n",
       "       correct_spelling_id  synonym_id  rank  \n",
       "5                      NaN       505.0     4  \n",
       "7                      NaN      4404.0     4  \n",
       "8                      NaN      9724.0     4  \n",
       "9                      NaN       593.0     4  \n",
       "20                     NaN      6094.0     4  \n",
       "...                    ...         ...   ...  \n",
       "66109               6305.0      5573.0     4  \n",
       "66127                721.0       290.0     4  \n",
       "66136               2412.0      6034.0     4  \n",
       "66137                510.0       288.0     9  \n",
       "66138                510.0       288.0     4  \n",
       "\n",
       "[13944 rows x 7 columns]"
      ]
     },
     "execution_count": 8,
     "metadata": {},
     "output_type": "execute_result"
    }
   ],
   "source": [
    "mask = names_df.deprecated == 1\n",
    "names_df[mask]"
   ]
  },
  {
   "cell_type": "code",
   "execution_count": 15,
   "metadata": {},
   "outputs": [
    {
     "data": {
      "text/html": [
       "<div>\n",
       "<style scoped>\n",
       "    .dataframe tbody tr th:only-of-type {\n",
       "        vertical-align: middle;\n",
       "    }\n",
       "\n",
       "    .dataframe tbody tr th {\n",
       "        vertical-align: top;\n",
       "    }\n",
       "\n",
       "    .dataframe thead th {\n",
       "        text-align: right;\n",
       "    }\n",
       "</style>\n",
       "<table border=\"1\" class=\"dataframe\">\n",
       "  <thead>\n",
       "    <tr style=\"text-align: right;\">\n",
       "      <th></th>\n",
       "      <th>id</th>\n",
       "      <th>text_name</th>\n",
       "      <th>author</th>\n",
       "      <th>deprecated</th>\n",
       "      <th>correct_spelling_id</th>\n",
       "      <th>synonym_id</th>\n",
       "      <th>rank</th>\n",
       "    </tr>\n",
       "  </thead>\n",
       "  <tbody>\n",
       "    <tr>\n",
       "      <th>435</th>\n",
       "      <td>470</td>\n",
       "      <td>Panaeolus papilionaceus</td>\n",
       "      <td>(Bull.) Quél.</td>\n",
       "      <td>0</td>\n",
       "      <td>NaN</td>\n",
       "      <td>290.0</td>\n",
       "      <td>4</td>\n",
       "    </tr>\n",
       "    <tr>\n",
       "      <th>666</th>\n",
       "      <td>721</td>\n",
       "      <td>Panaeolus sphinctrinus</td>\n",
       "      <td>(Fr.) Quél.</td>\n",
       "      <td>1</td>\n",
       "      <td>NaN</td>\n",
       "      <td>290.0</td>\n",
       "      <td>4</td>\n",
       "    </tr>\n",
       "    <tr>\n",
       "      <th>930</th>\n",
       "      <td>1004</td>\n",
       "      <td>Panaeolus papilionaceus var. parvisporus</td>\n",
       "      <td>Ew. Gerhardt</td>\n",
       "      <td>0</td>\n",
       "      <td>NaN</td>\n",
       "      <td>290.0</td>\n",
       "      <td>2</td>\n",
       "    </tr>\n",
       "    <tr>\n",
       "      <th>3090</th>\n",
       "      <td>3288</td>\n",
       "      <td>Panaeolus campanulatus</td>\n",
       "      <td>(L.) Quél.</td>\n",
       "      <td>1</td>\n",
       "      <td>NaN</td>\n",
       "      <td>290.0</td>\n",
       "      <td>4</td>\n",
       "    </tr>\n",
       "    <tr>\n",
       "      <th>4618</th>\n",
       "      <td>4868</td>\n",
       "      <td>Panaeolus callosus</td>\n",
       "      <td>NaN</td>\n",
       "      <td>1</td>\n",
       "      <td>NaN</td>\n",
       "      <td>290.0</td>\n",
       "      <td>4</td>\n",
       "    </tr>\n",
       "    <tr>\n",
       "      <th>5112</th>\n",
       "      <td>5473</td>\n",
       "      <td>Paneolus campanulatus</td>\n",
       "      <td>NaN</td>\n",
       "      <td>1</td>\n",
       "      <td>3288.0</td>\n",
       "      <td>290.0</td>\n",
       "      <td>4</td>\n",
       "    </tr>\n",
       "    <tr>\n",
       "      <th>14437</th>\n",
       "      <td>14969</td>\n",
       "      <td>Panaeolus papilionaceus var. papilionaceus</td>\n",
       "      <td>(Bull.) Quél.</td>\n",
       "      <td>0</td>\n",
       "      <td>NaN</td>\n",
       "      <td>290.0</td>\n",
       "      <td>2</td>\n",
       "    </tr>\n",
       "    <tr>\n",
       "      <th>44934</th>\n",
       "      <td>50166</td>\n",
       "      <td>Copelandia papilionaceus</td>\n",
       "      <td>NaN</td>\n",
       "      <td>1</td>\n",
       "      <td>470.0</td>\n",
       "      <td>290.0</td>\n",
       "      <td>4</td>\n",
       "    </tr>\n",
       "    <tr>\n",
       "      <th>64886</th>\n",
       "      <td>110678</td>\n",
       "      <td>Panaelous papilionaceus</td>\n",
       "      <td>NaN</td>\n",
       "      <td>1</td>\n",
       "      <td>470.0</td>\n",
       "      <td>290.0</td>\n",
       "      <td>4</td>\n",
       "    </tr>\n",
       "    <tr>\n",
       "      <th>66127</th>\n",
       "      <td>112059</td>\n",
       "      <td>Panaeolus sphinctrinum</td>\n",
       "      <td>NaN</td>\n",
       "      <td>1</td>\n",
       "      <td>721.0</td>\n",
       "      <td>290.0</td>\n",
       "      <td>4</td>\n",
       "    </tr>\n",
       "  </tbody>\n",
       "</table>\n",
       "</div>"
      ],
      "text/plain": [
       "           id                                   text_name         author  \\\n",
       "435       470                     Panaeolus papilionaceus  (Bull.) Quél.   \n",
       "666       721                      Panaeolus sphinctrinus    (Fr.) Quél.   \n",
       "930      1004    Panaeolus papilionaceus var. parvisporus   Ew. Gerhardt   \n",
       "3090     3288                      Panaeolus campanulatus     (L.) Quél.   \n",
       "4618     4868                          Panaeolus callosus            NaN   \n",
       "5112     5473                       Paneolus campanulatus            NaN   \n",
       "14437   14969  Panaeolus papilionaceus var. papilionaceus  (Bull.) Quél.   \n",
       "44934   50166                    Copelandia papilionaceus            NaN   \n",
       "64886  110678                     Panaelous papilionaceus            NaN   \n",
       "66127  112059                      Panaeolus sphinctrinum            NaN   \n",
       "\n",
       "       deprecated  correct_spelling_id  synonym_id  rank  \n",
       "435             0                  NaN       290.0     4  \n",
       "666             1                  NaN       290.0     4  \n",
       "930             0                  NaN       290.0     2  \n",
       "3090            1                  NaN       290.0     4  \n",
       "4618            1                  NaN       290.0     4  \n",
       "5112            1               3288.0       290.0     4  \n",
       "14437           0                  NaN       290.0     2  \n",
       "44934           1                470.0       290.0     4  \n",
       "64886           1                470.0       290.0     4  \n",
       "66127           1                721.0       290.0     4  "
      ]
     },
     "execution_count": 15,
     "metadata": {},
     "output_type": "execute_result"
    }
   ],
   "source": [
    "synonym_id = 290\n",
    "mask = names_df.synonym_id == synonym_id\n",
    "names_df[mask]"
   ]
  },
  {
   "cell_type": "markdown",
   "metadata": {},
   "source": [
    "**Observations**\n",
    "- Deprecated names seem to often be mapped to non-deprecated synonyms.\n",
    "- Synonyms may involve different ranks!"
   ]
  },
  {
   "cell_type": "markdown",
   "metadata": {},
   "source": [
    "### Preferred name IDs:\n",
    "- Map name IDs to the smallest, non-deprecated name ID within a synonym group if existent.\n",
    "- Keep original name ID otherwise."
   ]
  },
  {
   "cell_type": "code",
   "execution_count": 35,
   "metadata": {},
   "outputs": [],
   "source": [
    "id2preferred_id = get_id2preferred_id(names_df=names_df)"
   ]
  },
  {
   "cell_type": "code",
   "execution_count": 42,
   "metadata": {},
   "outputs": [
    {
     "data": {
      "text/plain": [
       "id                                                         1004\n",
       "text_name              Panaeolus papilionaceus var. parvisporus\n",
       "author                                             Ew. Gerhardt\n",
       "deprecated                                                    0\n",
       "correct_spelling_id                                         NaN\n",
       "synonym_id                                                290.0\n",
       "rank                                                          2\n",
       "preferred_id                                              470.0\n",
       "Name: 930, dtype: object"
      ]
     },
     "execution_count": 42,
     "metadata": {},
     "output_type": "execute_result"
    }
   ],
   "source": [
    "names_pref_df = names_df.copy()\n",
    "names_pref_df[\"preferred_id\"] = names_df[\"id\"].map(lambda id_: id2preferred_id.get(id_, id_))\n",
    "names_pref_df.iloc[930]"
   ]
  },
  {
   "cell_type": "code",
   "execution_count": 43,
   "metadata": {},
   "outputs": [
    {
     "data": {
      "text/html": [
       "<div>\n",
       "<style scoped>\n",
       "    .dataframe tbody tr th:only-of-type {\n",
       "        vertical-align: middle;\n",
       "    }\n",
       "\n",
       "    .dataframe tbody tr th {\n",
       "        vertical-align: top;\n",
       "    }\n",
       "\n",
       "    .dataframe thead th {\n",
       "        text-align: right;\n",
       "    }\n",
       "</style>\n",
       "<table border=\"1\" class=\"dataframe\">\n",
       "  <thead>\n",
       "    <tr style=\"text-align: right;\">\n",
       "      <th></th>\n",
       "      <th>id</th>\n",
       "      <th>text_name</th>\n",
       "      <th>author</th>\n",
       "      <th>deprecated</th>\n",
       "      <th>correct_spelling_id</th>\n",
       "      <th>synonym_id</th>\n",
       "      <th>rank</th>\n",
       "      <th>preferred_id</th>\n",
       "    </tr>\n",
       "  </thead>\n",
       "  <tbody>\n",
       "    <tr>\n",
       "      <th>66148</th>\n",
       "      <td>112081</td>\n",
       "      <td>Phlebiodontia subochracea</td>\n",
       "      <td>NaN</td>\n",
       "      <td>0</td>\n",
       "      <td>NaN</td>\n",
       "      <td>NaN</td>\n",
       "      <td>4</td>\n",
       "      <td>112081.0</td>\n",
       "    </tr>\n",
       "    <tr>\n",
       "      <th>66149</th>\n",
       "      <td>112082</td>\n",
       "      <td>Hebeloma citrisporum</td>\n",
       "      <td>Beker &amp; U. Eberh.</td>\n",
       "      <td>0</td>\n",
       "      <td>NaN</td>\n",
       "      <td>NaN</td>\n",
       "      <td>4</td>\n",
       "      <td>112082.0</td>\n",
       "    </tr>\n",
       "    <tr>\n",
       "      <th>66150</th>\n",
       "      <td>112083</td>\n",
       "      <td>Hygrocybe glacialis</td>\n",
       "      <td>T.Borgen &amp; Senn-Irlet</td>\n",
       "      <td>0</td>\n",
       "      <td>NaN</td>\n",
       "      <td>NaN</td>\n",
       "      <td>4</td>\n",
       "      <td>112083.0</td>\n",
       "    </tr>\n",
       "    <tr>\n",
       "      <th>66151</th>\n",
       "      <td>112084</td>\n",
       "      <td>Sertulicium niveocremeum</td>\n",
       "      <td>NaN</td>\n",
       "      <td>0</td>\n",
       "      <td>NaN</td>\n",
       "      <td>NaN</td>\n",
       "      <td>4</td>\n",
       "      <td>112084.0</td>\n",
       "    </tr>\n",
       "    <tr>\n",
       "      <th>66152</th>\n",
       "      <td>112085</td>\n",
       "      <td>Tephrocybella</td>\n",
       "      <td>NaN</td>\n",
       "      <td>0</td>\n",
       "      <td>NaN</td>\n",
       "      <td>NaN</td>\n",
       "      <td>9</td>\n",
       "      <td>112085.0</td>\n",
       "    </tr>\n",
       "  </tbody>\n",
       "</table>\n",
       "</div>"
      ],
      "text/plain": [
       "           id                  text_name                 author  deprecated  \\\n",
       "66148  112081  Phlebiodontia subochracea                    NaN           0   \n",
       "66149  112082       Hebeloma citrisporum      Beker & U. Eberh.           0   \n",
       "66150  112083        Hygrocybe glacialis  T.Borgen & Senn-Irlet           0   \n",
       "66151  112084   Sertulicium niveocremeum                    NaN           0   \n",
       "66152  112085              Tephrocybella                    NaN           0   \n",
       "\n",
       "       correct_spelling_id  synonym_id  rank  preferred_id  \n",
       "66148                  NaN         NaN     4      112081.0  \n",
       "66149                  NaN         NaN     4      112082.0  \n",
       "66150                  NaN         NaN     4      112083.0  \n",
       "66151                  NaN         NaN     4      112084.0  \n",
       "66152                  NaN         NaN     9      112085.0  "
      ]
     },
     "execution_count": 43,
     "metadata": {},
     "output_type": "execute_result"
    }
   ],
   "source": [
    "names_pref_df.tail()"
   ]
  },
  {
   "cell_type": "code",
   "execution_count": 44,
   "metadata": {},
   "outputs": [
    {
     "name": "stdout",
     "output_type": "stream",
     "text": [
      "<class 'pandas.core.frame.DataFrame'>\n",
      "RangeIndex: 66153 entries, 0 to 66152\n",
      "Data columns (total 8 columns):\n",
      " #   Column               Non-Null Count  Dtype  \n",
      "---  ------               --------------  -----  \n",
      " 0   id                   66153 non-null  int64  \n",
      " 1   text_name            66153 non-null  object \n",
      " 2   author               47550 non-null  object \n",
      " 3   deprecated           66153 non-null  int64  \n",
      " 4   correct_spelling_id  1591 non-null   float64\n",
      " 5   synonym_id           21777 non-null  float64\n",
      " 6   rank                 66153 non-null  int64  \n",
      " 7   preferred_id         65622 non-null  float64\n",
      "dtypes: float64(3), int64(3), object(2)\n",
      "memory usage: 4.0+ MB\n"
     ]
    }
   ],
   "source": [
    "names_pref_df.info()"
   ]
  },
  {
   "cell_type": "code",
   "execution_count": 45,
   "metadata": {},
   "outputs": [
    {
     "data": {
      "text/html": [
       "<div>\n",
       "<style scoped>\n",
       "    .dataframe tbody tr th:only-of-type {\n",
       "        vertical-align: middle;\n",
       "    }\n",
       "\n",
       "    .dataframe tbody tr th {\n",
       "        vertical-align: top;\n",
       "    }\n",
       "\n",
       "    .dataframe thead th {\n",
       "        text-align: right;\n",
       "    }\n",
       "</style>\n",
       "<table border=\"1\" class=\"dataframe\">\n",
       "  <thead>\n",
       "    <tr style=\"text-align: right;\">\n",
       "      <th></th>\n",
       "      <th>id</th>\n",
       "      <th>text_name</th>\n",
       "      <th>author</th>\n",
       "      <th>deprecated</th>\n",
       "      <th>correct_spelling_id</th>\n",
       "      <th>synonym_id</th>\n",
       "      <th>rank</th>\n",
       "      <th>preferred_id</th>\n",
       "    </tr>\n",
       "  </thead>\n",
       "  <tbody>\n",
       "    <tr>\n",
       "      <th>139</th>\n",
       "      <td>154</td>\n",
       "      <td>Morchella elata</td>\n",
       "      <td>Fr.</td>\n",
       "      <td>1</td>\n",
       "      <td>NaN</td>\n",
       "      <td>9990.0</td>\n",
       "      <td>4</td>\n",
       "      <td>NaN</td>\n",
       "    </tr>\n",
       "    <tr>\n",
       "      <th>235</th>\n",
       "      <td>256</td>\n",
       "      <td>Gomphus bonari</td>\n",
       "      <td>NaN</td>\n",
       "      <td>1</td>\n",
       "      <td>NaN</td>\n",
       "      <td>4123.0</td>\n",
       "      <td>4</td>\n",
       "      <td>NaN</td>\n",
       "    </tr>\n",
       "    <tr>\n",
       "      <th>281</th>\n",
       "      <td>303</td>\n",
       "      <td>Conocybe filaris</td>\n",
       "      <td>(Fr.) Kühner</td>\n",
       "      <td>1</td>\n",
       "      <td>NaN</td>\n",
       "      <td>609.0</td>\n",
       "      <td>4</td>\n",
       "      <td>NaN</td>\n",
       "    </tr>\n",
       "    <tr>\n",
       "      <th>590</th>\n",
       "      <td>638</td>\n",
       "      <td>Pseudocyphelaria anomala</td>\n",
       "      <td>NaN</td>\n",
       "      <td>1</td>\n",
       "      <td>6172.0</td>\n",
       "      <td>693.0</td>\n",
       "      <td>4</td>\n",
       "      <td>NaN</td>\n",
       "    </tr>\n",
       "    <tr>\n",
       "      <th>988</th>\n",
       "      <td>1066</td>\n",
       "      <td>Boletus \"rexvernus\"</td>\n",
       "      <td>NaN</td>\n",
       "      <td>1</td>\n",
       "      <td>NaN</td>\n",
       "      <td>493.0</td>\n",
       "      <td>4</td>\n",
       "      <td>NaN</td>\n",
       "    </tr>\n",
       "    <tr>\n",
       "      <th>...</th>\n",
       "      <td>...</td>\n",
       "      <td>...</td>\n",
       "      <td>...</td>\n",
       "      <td>...</td>\n",
       "      <td>...</td>\n",
       "      <td>...</td>\n",
       "      <td>...</td>\n",
       "      <td>...</td>\n",
       "    </tr>\n",
       "    <tr>\n",
       "      <th>62953</th>\n",
       "      <td>108111</td>\n",
       "      <td>Amanitina alliodora</td>\n",
       "      <td>(Pat.) E.-J. Gilbert</td>\n",
       "      <td>1</td>\n",
       "      <td>NaN</td>\n",
       "      <td>8796.0</td>\n",
       "      <td>4</td>\n",
       "      <td>NaN</td>\n",
       "    </tr>\n",
       "    <tr>\n",
       "      <th>62996</th>\n",
       "      <td>108193</td>\n",
       "      <td>Polyporus reticulatosporus</td>\n",
       "      <td>Van der Byl</td>\n",
       "      <td>1</td>\n",
       "      <td>NaN</td>\n",
       "      <td>8822.0</td>\n",
       "      <td>4</td>\n",
       "      <td>NaN</td>\n",
       "    </tr>\n",
       "    <tr>\n",
       "      <th>63233</th>\n",
       "      <td>108636</td>\n",
       "      <td>Uredo vacciniorum</td>\n",
       "      <td>(DC.) Rabenh.</td>\n",
       "      <td>1</td>\n",
       "      <td>NaN</td>\n",
       "      <td>8860.0</td>\n",
       "      <td>4</td>\n",
       "      <td>NaN</td>\n",
       "    </tr>\n",
       "    <tr>\n",
       "      <th>63796</th>\n",
       "      <td>109392</td>\n",
       "      <td>Columellomycetidae</td>\n",
       "      <td>Leontyev, Schnittler, S.L. Stephenson, Novozh....</td>\n",
       "      <td>1</td>\n",
       "      <td>NaN</td>\n",
       "      <td>9887.0</td>\n",
       "      <td>11</td>\n",
       "      <td>NaN</td>\n",
       "    </tr>\n",
       "    <tr>\n",
       "      <th>65068</th>\n",
       "      <td>110895</td>\n",
       "      <td>Mallocybe dulcamara</td>\n",
       "      <td>(Pers.) Vizzini, Maggiora, Tolaini &amp; Ercole no...</td>\n",
       "      <td>1</td>\n",
       "      <td>NaN</td>\n",
       "      <td>7822.0</td>\n",
       "      <td>4</td>\n",
       "      <td>NaN</td>\n",
       "    </tr>\n",
       "  </tbody>\n",
       "</table>\n",
       "<p>531 rows × 8 columns</p>\n",
       "</div>"
      ],
      "text/plain": [
       "           id                   text_name  \\\n",
       "139       154             Morchella elata   \n",
       "235       256              Gomphus bonari   \n",
       "281       303            Conocybe filaris   \n",
       "590       638    Pseudocyphelaria anomala   \n",
       "988      1066         Boletus \"rexvernus\"   \n",
       "...       ...                         ...   \n",
       "62953  108111         Amanitina alliodora   \n",
       "62996  108193  Polyporus reticulatosporus   \n",
       "63233  108636           Uredo vacciniorum   \n",
       "63796  109392          Columellomycetidae   \n",
       "65068  110895         Mallocybe dulcamara   \n",
       "\n",
       "                                                  author  deprecated  \\\n",
       "139                                                  Fr.           1   \n",
       "235                                                  NaN           1   \n",
       "281                                         (Fr.) Kühner           1   \n",
       "590                                                  NaN           1   \n",
       "988                                                  NaN           1   \n",
       "...                                                  ...         ...   \n",
       "62953                               (Pat.) E.-J. Gilbert           1   \n",
       "62996                                        Van der Byl           1   \n",
       "63233                                      (DC.) Rabenh.           1   \n",
       "63796  Leontyev, Schnittler, S.L. Stephenson, Novozh....           1   \n",
       "65068  (Pers.) Vizzini, Maggiora, Tolaini & Ercole no...           1   \n",
       "\n",
       "       correct_spelling_id  synonym_id  rank  preferred_id  \n",
       "139                    NaN      9990.0     4           NaN  \n",
       "235                    NaN      4123.0     4           NaN  \n",
       "281                    NaN       609.0     4           NaN  \n",
       "590                 6172.0       693.0     4           NaN  \n",
       "988                    NaN       493.0     4           NaN  \n",
       "...                    ...         ...   ...           ...  \n",
       "62953                  NaN      8796.0     4           NaN  \n",
       "62996                  NaN      8822.0     4           NaN  \n",
       "63233                  NaN      8860.0     4           NaN  \n",
       "63796                  NaN      9887.0    11           NaN  \n",
       "65068                  NaN      7822.0     4           NaN  \n",
       "\n",
       "[531 rows x 8 columns]"
      ]
     },
     "execution_count": 45,
     "metadata": {},
     "output_type": "execute_result"
    }
   ],
   "source": [
    "mask = names_pref_df.preferred_id.isna()\n",
    "names_pref_df[mask]"
   ]
  },
  {
   "cell_type": "code",
   "execution_count": 46,
   "metadata": {},
   "outputs": [
    {
     "data": {
      "text/html": [
       "<div>\n",
       "<style scoped>\n",
       "    .dataframe tbody tr th:only-of-type {\n",
       "        vertical-align: middle;\n",
       "    }\n",
       "\n",
       "    .dataframe tbody tr th {\n",
       "        vertical-align: top;\n",
       "    }\n",
       "\n",
       "    .dataframe thead th {\n",
       "        text-align: right;\n",
       "    }\n",
       "</style>\n",
       "<table border=\"1\" class=\"dataframe\">\n",
       "  <thead>\n",
       "    <tr style=\"text-align: right;\">\n",
       "      <th></th>\n",
       "      <th>id</th>\n",
       "      <th>text_name</th>\n",
       "      <th>author</th>\n",
       "      <th>deprecated</th>\n",
       "      <th>correct_spelling_id</th>\n",
       "      <th>synonym_id</th>\n",
       "      <th>rank</th>\n",
       "    </tr>\n",
       "  </thead>\n",
       "  <tbody>\n",
       "    <tr>\n",
       "      <th>139</th>\n",
       "      <td>154</td>\n",
       "      <td>Morchella elata</td>\n",
       "      <td>Fr.</td>\n",
       "      <td>1</td>\n",
       "      <td>NaN</td>\n",
       "      <td>9990.0</td>\n",
       "      <td>4</td>\n",
       "    </tr>\n",
       "    <tr>\n",
       "      <th>27107</th>\n",
       "      <td>30722</td>\n",
       "      <td>Morchella costata</td>\n",
       "      <td>(Vent.) Pers.</td>\n",
       "      <td>1</td>\n",
       "      <td>NaN</td>\n",
       "      <td>9990.0</td>\n",
       "      <td>4</td>\n",
       "    </tr>\n",
       "    <tr>\n",
       "      <th>39033</th>\n",
       "      <td>43442</td>\n",
       "      <td>Morchella elata</td>\n",
       "      <td>Fr. sensu Clowez</td>\n",
       "      <td>1</td>\n",
       "      <td>NaN</td>\n",
       "      <td>9990.0</td>\n",
       "      <td>4</td>\n",
       "    </tr>\n",
       "  </tbody>\n",
       "</table>\n",
       "</div>"
      ],
      "text/plain": [
       "          id          text_name            author  deprecated  \\\n",
       "139      154    Morchella elata               Fr.           1   \n",
       "27107  30722  Morchella costata     (Vent.) Pers.           1   \n",
       "39033  43442    Morchella elata  Fr. sensu Clowez           1   \n",
       "\n",
       "       correct_spelling_id  synonym_id  rank  \n",
       "139                    NaN      9990.0     4  \n",
       "27107                  NaN      9990.0     4  \n",
       "39033                  NaN      9990.0     4  "
      ]
     },
     "execution_count": 46,
     "metadata": {},
     "output_type": "execute_result"
    }
   ],
   "source": [
    "mask = names_df.synonym_id == 9990\n",
    "names_df[mask]"
   ]
  },
  {
   "cell_type": "markdown",
   "metadata": {},
   "source": [
    "**Observations**\n",
    "- There are synonym groups that do not have a non-deprecated member."
   ]
  },
  {
   "cell_type": "code",
   "execution_count": 47,
   "metadata": {},
   "outputs": [
    {
     "name": "stdout",
     "output_type": "stream",
     "text": [
      "There are 531 names without a non-deprecated name in their synonym group.\n"
     ]
    }
   ],
   "source": [
    "mask = names_pref_df.preferred_id.isna()\n",
    "print(f\"There are {len(names_pref_df[mask])} names without a non-deprecated name in their synonym group.\")"
   ]
  },
  {
   "cell_type": "markdown",
   "metadata": {},
   "source": [
    "**Observations**\n",
    "- "
   ]
  },
  {
   "cell_type": "code",
   "execution_count": 30,
   "metadata": {},
   "outputs": [
    {
     "name": "stdout",
     "output_type": "stream",
     "text": [
      "<class 'pandas.core.frame.DataFrame'>\n",
      "RangeIndex: 468974 entries, 0 to 468973\n",
      "Data columns (total 10 columns):\n",
      " #   Column                  Non-Null Count   Dtype  \n",
      "---  ------                  --------------   -----  \n",
      " 0   id                      468974 non-null  int64  \n",
      " 1   name_id                 468974 non-null  int64  \n",
      " 2   when                    468974 non-null  object \n",
      " 3   location_id             468973 non-null  float64\n",
      " 4   lat                     107615 non-null  float64\n",
      " 5   long                    107615 non-null  float64\n",
      " 6   alt                     104447 non-null  float64\n",
      " 7   vote_cache              465082 non-null  float64\n",
      " 8   is_collection_location  468974 non-null  int64  \n",
      " 9   thumb_image_id          450576 non-null  float64\n",
      "dtypes: float64(6), int64(3), object(1)\n",
      "memory usage: 35.8+ MB\n"
     ]
    }
   ],
   "source": [
    "observations_df.info()"
   ]
  },
  {
   "cell_type": "code",
   "execution_count": 57,
   "metadata": {},
   "outputs": [],
   "source": [
    "names_pref_df = get_names_pref_df(names_df=names_df)\n",
    "\n",
    "observations_ranks_df = pd.merge(\n",
    "    left=observations_df[[\"id\", \"name_id\"]],\n",
    "    right=names_pref_df[[\"id\", \"preferred_id\", \"rank\"]],\n",
    "    how=\"left\",\n",
    "    left_on=\"name_id\",\n",
    "    right_on=\"id\",\n",
    "    suffixes=(\"_obs\", \"_name\")\n",
    ")"
   ]
  },
  {
   "cell_type": "code",
   "execution_count": 58,
   "metadata": {},
   "outputs": [
    {
     "name": "stdout",
     "output_type": "stream",
     "text": [
      "<class 'pandas.core.frame.DataFrame'>\n",
      "Int64Index: 469249 entries, 0 to 469248\n",
      "Data columns (total 5 columns):\n",
      " #   Column        Non-Null Count   Dtype\n",
      "---  ------        --------------   -----\n",
      " 0   id_obs        469249 non-null  int64\n",
      " 1   name_id       469249 non-null  int64\n",
      " 2   id_name       469249 non-null  int64\n",
      " 3   preferred_id  469249 non-null  int64\n",
      " 4   rank          469249 non-null  int64\n",
      "dtypes: int64(5)\n",
      "memory usage: 21.5 MB\n"
     ]
    }
   ],
   "source": [
    "observations_ranks_df.info()"
   ]
  },
  {
   "cell_type": "markdown",
   "metadata": {},
   "source": [
    "**Observations**\n",
    "- All observations get mapped to names.\n",
    "- ~6% deprecated names."
   ]
  },
  {
   "cell_type": "markdown",
   "metadata": {},
   "source": [
    "## Rank Stats"
   ]
  },
  {
   "cell_type": "code",
   "execution_count": 60,
   "metadata": {},
   "outputs": [
    {
     "data": {
      "image/png": "[encoded data removed]",
      "text/plain": [
       "<Figure size 720x720 with 1 Axes>"
      ]
     },
     "metadata": {
      "needs_background": "light"
     },
     "output_type": "display_data"
    }
   ],
   "source": [
    "fig, ax = plt.subplots(1, 1, figsize=(10, 10))\n",
    "to_plot_df = observations_ranks_df.groupby(\"rank\").size().reset_index(name=\"Count\").sort_values(\"Count\", ascending=False)\n",
    "to_plot_df[\"rank\"] = to_plot_df[\"rank\"].astype(str)\n",
    "sns.barplot(data=to_plot_df, y=\"rank\", x=\"Count\", ax=ax)\n",
    "ax.set_xscale(\"log\")"
   ]
  },
  {
   "cell_type": "markdown",
   "metadata": {},
   "source": [
    "**Observations**\n",
    "- Most represented ranks, 4 and 9, have ~100,000 observations."
   ]
  },
  {
   "cell_type": "code",
   "execution_count": 61,
   "metadata": {},
   "outputs": [
    {
     "name": "stdout",
     "output_type": "stream",
     "text": [
      "Rank 1:\n",
      "There are 5 names with more than 10 observations. This is 4.63% of the total.\n",
      "Rank 2:\n",
      "There are 81 names with more than 10 observations. This is 17.09% of the total.\n",
      "Rank 3:\n",
      "There are 8 names with more than 10 observations. This is 15.09% of the total.\n",
      "Rank 4:\n",
      "There are 3469 names with more than 10 observations. This is 27.87% of the total.\n",
      "Rank 5:\n",
      "There are 3 names with more than 10 observations. This is 15.00% of the total.\n",
      "Rank 6:\n",
      "There are 14 names with more than 10 observations. This is 23.73% of the total.\n",
      "Rank 7:\n",
      "There are 71 names with more than 10 observations. This is 33.81% of the total.\n",
      "Rank 8:\n",
      "There are 31 names with more than 10 observations. This is 40.26% of the total.\n",
      "Rank 9:\n",
      "There are 562 names with more than 10 observations. This is 41.05% of the total.\n",
      "Rank 10:\n",
      "There are 77 names with more than 10 observations. This is 41.18% of the total.\n",
      "Rank 11:\n",
      "There are 20 names with more than 10 observations. This is 40.00% of the total.\n",
      "Rank 12:\n",
      "There are 9 names with more than 10 observations. This is 37.50% of the total.\n",
      "Rank 13:\n",
      "There are 8 names with more than 10 observations. This is 61.54% of the total.\n",
      "Rank 14:\n",
      "There are 2 names with more than 10 observations. This is 66.67% of the total.\n"
     ]
    }
   ],
   "source": [
    "n = 10\n",
    "for rank in range(1, 15):\n",
    "    print(f\"Rank {rank}:\")\n",
    "    rank_observations_df = get_observations4rank_df(observations_df=observations_df, names_df=names_df, rank=rank)\n",
    "    to_plot_df = rank_observations_df.groupby(\"label\").size().reset_index(name=\"Count\").sort_values(\n",
    "        \"Count\", ascending=False)\n",
    "    to_plot_df[\"label\"] = to_plot_df.label.astype(str)\n",
    "    mask = to_plot_df.Count >= n\n",
    "    print(f\"There are {len(to_plot_df[mask])} names with more than {n} observations. This is {len(to_plot_df[mask]) / len(to_plot_df) * 100:.2f}% of the total.\")"
   ]
  },
  {
   "cell_type": "markdown",
   "metadata": {},
   "source": [
    "**Discussion Regarding Labels**\n",
    "\n",
    "There are two possible definitions of labels:\n",
    "1. Cross-ranking definition: Map all IDs to one ID from their synonym group if existent, to itself otherwise.\n",
    "2. Same as 1. but limiting to a certain rank from the beginning on.\n",
    "\n",
    "Option 1 will produce more labels and allow for a rank-free confusion matrix. Option 2 may be more precise because it removes naming redundancy."
   ]
  },
  {
   "cell_type": "markdown",
   "metadata": {},
   "source": []
  }
 ],
 "metadata": {
  "kernelspec": {
   "display_name": "Python 3.7.12 ('mo')",
   "language": "python",
   "name": "python3"
  },
  "language_info": {
   "codemirror_mode": {
    "name": "ipython",
    "version": 3
   },
   "file_extension": ".py",
   "mimetype": "text/x-python",
   "name": "python",
   "nbconvert_exporter": "python",
   "pygments_lexer": "ipython3",
   "version": "3.7.12"
  },
  "orig_nbformat": 4,
  "vscode": {
   "interpreter": {
    "hash": "30c1b230a81e36d84f5432829b45a9df23c5c9df39b1e4d42b4e450bce0b1216"
   }
  }
 },
 "nbformat": 4,
 "nbformat_minor": 2
}
